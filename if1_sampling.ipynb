{
 "cells": [
  {
   "cell_type": "markdown",
   "metadata": {},
   "source": [
    "### **ESM - Inverse Folding 1**: Sequence sampling\n",
    "\n",
    "More information on tool in the [preprint](https://www.biorxiv.org/content/10.1101/2022.04.10.487779v1) by Chloe Hsu *et al.*, 2022"
   ]
  },
  {
   "cell_type": "code",
   "execution_count": 5,
   "metadata": {},
   "outputs": [
    {
     "name": "stdout",
     "output_type": "stream",
     "text": [
      "2022-04-26 12:28:25,367 | INFO : Loaded project Protein-Tools/Sequence-Sampler-IF1:0.0.21\n"
     ]
    }
   ],
   "source": [
    "# Import BioLib and load the tool\n",
    "import biolib\n",
    "if1 = biolib.load('Protein_Tools/Sequence_Sampler_IF1')"
   ]
  },
  {
   "cell_type": "markdown",
   "metadata": {},
   "source": [
    "**Run IF1 Sampler and score the generated sequences**\n",
    "\n",
    "To generate score-ranked sequences add the `--score` flag when running the tool\n",
    "\n",
    "<br>\n",
    "\n",
    "**Add residue masking in your sequence**\n",
    "\n",
    "To mask the sequence in put comma-separated ranges of residues, both residues included.\n",
    "\n",
    "For example: If we want to mask from residues 10 to 14, residue 25 and then from residues 29 to 39, we should write:\n",
    "\n",
    "```bash\n",
    "--mask 10-14,25,29-39\n",
    "```\n",
    "    \n",
    " NB! Span masks of >30 residues can lead to low quality generation of sequences. "
   ]
  },
  {
   "cell_type": "code",
   "execution_count": 10,
   "metadata": {},
   "outputs": [
    {
     "name": "stdout",
     "output_type": "stream",
     "text": [
      "2022-04-26 12:37:01,697 | INFO : Started compute node\n",
      "2022-04-26 12:37:02,163 | INFO : Compute Node: Initializing\n",
      "2022-04-26 12:37:02,208 | INFO : Job \"da60f691-b4f5-4415-bcb8-e7f8128a2b5c\" running...\n",
      "2022-04-26 12:37:03,672 | INFO : Compute Node: Pulling images...\n",
      "2022-04-26 12:37:03,673 | INFO : Compute Node: Computing...\n",
      "Found 1 chains: ['A'] \n",
      "\n",
      "Loaded chain A\n",
      "\n",
      "Masking option active, masking your sequence...\n",
      "Sequence loaded from file:\n",
      "MKKTAIAIAVALAGFATVAQAAPKDNTWYTGAKLGWSQYHDTGFINNNGPTHENQLGAGAFGGYQVNPYVGFEMGYDWLGRMPYKGSVENGAYKAQGVQLTAKLGYPITDDLDIYTRLGGMVWRADTKSNVYGKNHDTGVSPVFAGGVEYAITPEIATRLEYQWTNNIGDAHTIGTRPDNGMLSLGVSYRFGQGEAAPVVAPAPAPAPEVQTKHFTLKSDVLFNFNKATLKPEGQAALDQLYSQLSNLDPKDGSVVVLGYTDRIGSDAYNQGLSERRAQSVVDYLISKGIPADKISARGMGESNPVTGNTCDNVKQRAALIDCLAPDRRVEIEVKGIKDVVQPQA\n",
      "Your sequence was masked to:\n",
      "MKKTAIAIA*****F*TVAQAAPKD***********SQYHDTGFINNNGPTHENQ**AGAFGGYQVNPYVGFEMGYDWLGRMPYKGSVENGAYKAQGVQLTAKLGYPITDDLDIYTRLGGMVWRADTKSNVYGKNHDTGVSPVFAGGVEYAITPEIATRLEYQWTNNIGDAHTIGTRPDNGMLSLGVSYRFGQGEAAPVVAPAPAPAPEVQTKHFTLKSDVLFNFNKATLKPEGQAALDQLYSQLSNLDPKDGSVVVLGYTDRIGSDAYNQGLSERRAQSVVDYLISKGIPADKISARGMGESNPVTGNTCDNVKQRAALIDCLAPDRRVEIEVKGIKDVVQPQA\n",
      "\n",
      "Start sampling...\n",
      "\n",
      "Sampling sequences... (1 of 10)\n",
      "Sequence: SNAERHVCKSARVYRAQEQRVAPKEGVLYLGATLGGGWKLNTTIHNLDGTDHHYTGPLGISAGWRLNPHLGLVLSYDNLGRVPYTGTTMTGAYSAQGVSLCTRLGYSLAGDLDLYSQTGGMLWRATETSNVSGTSSHSGLSPVLALGAQYYLTNEWAVELNYRHTMDIGDSQTIGTDPDVGLFQLGLHYAFGQHGKKLHAHHAEMPEPEQTVRKETLSGSVLFLRKSSALTGTGQKALEQQYQQLKALKLSSGEIQVLGYENSIGSRAQRDDRSDKQAQAVVDYLVSLGVPQERITAHGMGAQNPVTGTSCDSVADPKALRDCLKPDDRVEILIAHTATHHHHHH\n",
      "Sequence recovery: 0.41739130434782606\n",
      "\n",
      "Sampling sequences... (2 of 10)\n",
      "Sequence: GSASSYFNGDTSLSNKNSDNDKQTSGWYAGAEIGNGANYFNNKLKYINGTTSNNTGFYGIQVGYEANPNIGVEASYRDLGEMPYSGTTEKGTFRADGVGITARIGYPVTENIELFSKLGGLNFKARESSNVGGKKSTSGMAPVYSVGVKYLVTPQISLRLELIYSSHLGDSDTVGTNPNNFTFALGVYYQFGQREKSETAEQKPQKEPEVQVKIYTLSASVLFDKNSYVLTPQGRAALDKLYTELSGIKNKQGKVTVEGYTDDIGTAGESALLSAAMAQSVVDYLVSKGVSADQIAAQGRGDQDPICKNQCRNVNEATDLKQCLKPNERVRVKVASIHHHHHHHW\n",
      "Sequence recovery: 0.37971014492753624\n",
      "\n",
      "Sampling sequences... (3 of 10)\n",
      "Sequence: GHHHHHHHPMKVRKRHTIKQKDPVPGGFYIGGRLPHAHYFRNDLVGNDGPNDNNTVGWGVGVGYRFNDDVGVEAEYSDLGKMPYSGSNVNGSASNKGISAVAVFGHPVTDRLMVHGKLGAMAWKADTKSNVTGSRKNKGVSPVLALGVRYFYTPNISLRAEYQYVSNIGDQNRIGTRPDAGTFGLGLTYQFGQTSAAPLVKPAPVPVKTITERKFTLDANLLFGRNQSVLLPEGKAALEKLYYDLSGLAAAKGQVTVQGFTDRLGTTANEESRSYNQAQAVVDFLVRLGLPKNRIKAEGQGSENPLTGDMCDRVNDANRLKSCLQPDERVNIKVNAEETNKVSEK\n",
      "Sequence recovery: 0.42028985507246375\n",
      "\n",
      "Sampling sequences... (4 of 10)\n",
      "Sequence: GHHEFQQALENAKKRPLAPLVQARDEYFYPAIGTTGPIYLDTNKDDLQGRLNTRTNQFGAQIGWMYNPNLGVELSYQDLGSMPYTGSFDTGRIRGHGWAATIKLGTPLTGQLDAYARLGLMRYDLKTVSNVSGTHSNSGWSPTLAVGLKYYWTPDLSIIGELQYTADVGDHDKVGTRPDVLQLSLGLAYHLGQNKPEVKEKPERPPEVKVVTDRFRLDSHLLFQANSYQLTQAGQQALLDLYGKLRNMRLDTGEIAVRGYENMLGTKDERDAMSQRRAQAVVDYLVSLGIPESSIRATGRGSDNPVTGDQCDHVKNKAQLEKCLAPDQRVEIEVKHTILKRDKQP\n",
      "Sequence recovery: 0.3826086956521739\n",
      "\n",
      "Sampling sequences... (5 of 10)\n",
      "Sequence: GASHMISHAEDGDILEDMEMHEPKNNGWYLGMGLGTSQYYNTEISNQDGSTKKFTDTFGISAGYQGNQNIGVVASLSFYGNMKYDGSTDKGNLSAKGFSVTVDLGYHITEKLRVYMKQGMMAYQMRVNSNVHGKKNANGISPVISVGTQYYLTDNLSLTLETQYTAKVGDESKVGTSPDILNVRLGVNYSFGQGAPSINEKDTKEPKVETIQKKYTLSGNTLFNKNSNTLTPDGKAALSSLYNQISGLDLQGGKIVVKGYTDDIGTSAEQMAQSYRRAEAVKDYLVSEGINENSIEAKGQGDNNPVTGDNCNAVSDVKQLRECLKPDFRIEIDVNVTKPVQRVEG\n",
      "Sequence recovery: 0.39420289855072466\n",
      "\n",
      "Sampling sequences... (6 of 10)\n",
      "Sequence: GSLEILPDVEVQTLSGARDINVPYSGFVYGGGNMGMAGYGNVDLRNNNGPVGNGTLGAGAHVGYRFNDNLGVVGSYQWLGAVPFRGSNDKGRYRNQGLGLSLKLSHPLTDNLDFYGTVGGVTYKAQTTSNIFGSLSNKGVSPVLAGGARYYATPALALDLKYTYVRDVGDEKAVGTKPDVGALTLGALYHFGQSAAKKVETAVAAPEITVNTTEYVLQASTLFNNNSAALTPEGEQALLALYNQLSELSSRYGMVKVLGFDDEIGTLAERDALSQAQAQAVVDYLVSLGIPSDFIAATGMGSLQPATGEKCDDVMDATLKKECLAPDNRTVILVDWVLKEEVKPR\n",
      "Sequence recovery: 0.4057971014492754\n",
      "\n",
      "Sampling sequences... (7 of 10)\n",
      "Sequence: GASDRRRKRKVRYRGDATDLRKPADGFFGAALSAGYNEFFKVDYRNIDGEIKGATQSLGVSVGYRINPRFGLVAAYSFYGKMPYKGATQKGESTAKGFALTGKFGYRVMDDLTVFAELGSMFFVSQRDENVFGRQTHAGNSPVLAVGAEYFLTNTLSLDLRTKFVGDIGDRSVIGTKPDNTSLNLGLKYSFGQDSAAKSDRPAKPPVEVETTIRNRLSADKLFKDDSAKLTPKGEAELDELYNKLKKLDMEAGKIVVEGYTRGIGTAGQEDRQSLERAQSVVDYLVSKGVPKQRISAEGKGSADPVTGDSCDDVTQPKKLRECQAPDRRVNILVNHVKKNKVKAP\n",
      "Sequence recovery: 0.3739130434782609\n",
      "\n",
      "Sampling sequences... (8 of 10)\n",
      "Sequence: EASSSHWADVHPAQYEAQTMQQPKPGLVFGVTADGGSQLGRVAITHNNGDIDKDKDTFGASLGYNFNPNIGVVAAYADLGTMPYRGSHQKGKLANAGISGQLKLAHYVAENLLFYGKLGLMSYAQQVHSNVAGKRSNHGTAPVFSAGFQYYLSPNLSLDLEYTYTQEVGDTGKVDTRPDVGNLRLGLNYNFGQVKAPVAVSPLPAVIPHEITQTFRLPGSLLFHQDSYVLTESGRQELQHLYGKLSQLAAADGELLVQGYTSKLGQAAEQRQLSDARAQSVVDFLISQGVPATKIRAQGMGDQQPITNNRCNAVNNKQQLKTCLRPDYRVEILVQHHHHHHHHHH\n",
      "Sequence recovery: 0.3681159420289855\n",
      "\n",
      "Sampling sequences... (9 of 10)\n",
      "Sequence: GAVSDLESFNQSSYTSAYLVNKPLEGYHYVGLGLAGTNFADTNLTVNEGSIDDNQMYAGVSMGYKFNPYVGLDAAFYDYGKMPYEGSTESGNIDDQGVAVTVRFGVPITNELDFFVKGGLINYKEERASNKLGKTSTNGLSPVLAAGFRYYLTGKLSLELEQTYVMAVGNQAKVGTDPDVSSFSLGANYRFGNGKEIPAKEAVPEPAPKIVTLQYTQQGLLLFDDNSSKLTPLGKASLKKLYNQLKGLELKEGLIKVLGYTDQMGSEEGNQALSKARAEAVKQYLVSLGIPKDKIDAKGMGSQNPITQNECDNVKDYSNFKQCLAPDDRIEIIVGIMPAVEEIVD\n",
      "Sequence recovery: 0.3884057971014493\n",
      "\n",
      "Sampling sequences... (10 of 10)\n",
      "Sequence: GSLTQKLTAAAAASEYKDALKKPKQGLYVAASLPVNATRTNVNIDQNHGDEKNQQAGHGASVGFILNPNVGLDASYLDLGKMPYLGNQEKGRYRANGYGLTARASYQVTKRLDVYALIGGMRYQAQRQSNITGRQSTTGVAPVLAAGVKYYLTPNVSLVMETRYTANMGDENLVGTKPNVTANNFGVNYRFGAVAPVAKVAQKPAPAPKVTTQTFTLAGATLFASNQSQLTPAGKAALDDLYKQLNDMNMAQGKIQVLGYENSQGTEPLRDERSKQQAQAVVDYLVSKGVPAAMISAQGRGSADRVTGFTCDQVHDSLQLQRCLAPDDRVQIQVQQTAPAKPVTH\n",
      "Sequence recovery: 0.39710144927536234\n",
      "\n",
      "\n",
      "Native sequence\n",
      "Log likelihood: -1.32\n",
      "Perplexity: 3.76\n",
      "\n",
      "Scoring variant sequences from sequence file..\n",
      "\n",
      "100% 10/10 [00:41<00:00,  4.12s/it]\n",
      "2022-04-26 12:39:32,878 | INFO : Compute Node: Computation finished\n",
      "2022-04-26 12:39:32,879 | INFO : Compute Node: Result Ready\n"
     ]
    }
   ],
   "source": [
    "# Run IF1 Sampler\n",
    "sampler_results = if1.cli(args='sample.pdb --num-samples 10 --score --mask 10-14,16,26-36,56,57')"
   ]
  },
  {
   "cell_type": "markdown",
   "metadata": {},
   "source": [
    "To observe the sequences ranked by score we can visualize the main tool calling BioLib's function:  `results.ipython_markdown()` and optionally save the results afterwards:\n"
   ]
  },
  {
   "cell_type": "code",
   "execution_count": 11,
   "metadata": {},
   "outputs": [
    {
     "name": "stdout",
     "output_type": "stream",
     "text": [
      "2022-04-26 12:44:46,870 | ERROR : Error rendering output: save_files() has not been called\n"
     ]
    },
    {
     "data": {
      "text/markdown": [
       "You can download the sampled sequences [here](sampled_seqs.fasta)\n",
       "\n",
       "You can download the scorings for the sequences [here](sampled_seqs_scored.csv) \n",
       "\n",
       "\n",
       "\n",
       "Sampled Sequences Log Likelihood:\n",
       "\n",
       "|    | seqid          |   log_likelihood |\n",
       "|---:|:---------------|-----------------:|\n",
       "|  0 | sampled_seq_1  |         -1.51573 |\n",
       "|  1 | sampled_seq_2  |         -1.62607 |\n",
       "|  2 | sampled_seq_3  |         -1.53894 |\n",
       "|  3 | sampled_seq_4  |         -1.57443 |\n",
       "|  4 | sampled_seq_5  |         -1.54662 |\n",
       "|  5 | sampled_seq_6  |         -1.49833 |\n",
       "|  6 | sampled_seq_7  |         -1.56512 |\n",
       "|  7 | sampled_seq_8  |         -1.50668 |\n",
       "|  8 | sampled_seq_9  |         -1.755   |\n",
       "|  9 | sampled_seq_10 |         -1.49671 |\n",
       "\n",
       " Highest scoring sequence is **sampled_seq_10**\n",
       "GSLTQKLTAAAAASEYKDALKKPKQGLYVAASLPVNATRTNVNIDQNHGDEKNQQAGHGASVGFILNPNVGLDASYLDLGKMPYLGNQEKGRYRANGYGLTARASYQVTKRLDVYALIGGMRYQAQRQSNITGRQSTTGVAPVLAAGVKYYLTPNVSLVMETRYTANMGDENLVGTKPNVTANNFGVNYRFGAVAPVAKVAQKPAPAPKVTTQTFTLAGATLFASNQSQLTPAGKAALDDLYKQLNDMNMAQGKIQVLGYENSQGTEPLRDERSKQQAQAVVDYLVSKGVPAAMISAQGRGSADRVTGFTCDQVHDSLQLQRCLAPDDRVQIQVQQTAPAKPVTH\n"
      ],
      "text/plain": [
       "<IPython.core.display.Markdown object>"
      ]
     },
     "metadata": {},
     "output_type": "display_data"
    }
   ],
   "source": [
    "sampler_results.ipython_markdown()\n",
    "sampler_results.save_files('biolib_results/')"
   ]
  }
 ],
 "metadata": {
  "kernelspec": {
   "display_name": "Python 3",
   "language": "python",
   "name": "python3"
  },
  "language_info": {
   "codemirror_mode": {
    "name": "ipython",
    "version": 3
   },
   "file_extension": ".py",
   "mimetype": "text/x-python",
   "name": "python",
   "nbconvert_exporter": "python",
   "pygments_lexer": "ipython3",
   "version": "3.6.9"
  },
  "orig_nbformat": 4
 },
 "nbformat": 4,
 "nbformat_minor": 2
}
